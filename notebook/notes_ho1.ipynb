{
 "cells": [
  {
   "cell_type": "markdown",
   "metadata": {},
   "source": [
    "## Stuff To-do\n",
    "\n",
    "Week 1: Introduction to Signal Processing (Signal 101)\n",
    "- Definition and types of signals (analog vs digital, continuous vs discrete)\n",
    "- Basic signal representations (time-domain, frequency-domain)\n",
    "- Common signal types: sine, square, impulse, step, noise\n",
    "- Basic mathematical operations on signals (scaling, shifting, inversion)\n",
    "- Introduction to the concept of transformation (Fourier, Laplace)\n",
    "\n",
    "Notebook Content:\n",
    "Hands-on as Signal component analysis.\n",
    "\n",
    "Advanced: \n",
    "Hands-on examples using Python (NumPy, Matplotlib, SciPy)\n",
    "Generating and visualizing signals\n",
    "Simple mathematical operations on signals\n"
   ]
  },
  {
   "cell_type": "markdown",
   "metadata": {},
   "source": []
  }
 ],
 "metadata": {
  "language_info": {
   "name": "python"
  }
 },
 "nbformat": 4,
 "nbformat_minor": 2
}
